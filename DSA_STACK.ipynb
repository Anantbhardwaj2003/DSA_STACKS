{
 "cells": [
  {
   "cell_type": "markdown",
   "id": "6d3353af-58ba-4e65-9f48-fbdb8f2bdddc",
   "metadata": {},
   "source": [
    "# War of Minions\n",
    "<b>Mimions are of 26 types,, from 'a' to 'z'.If two Minions of same type finds themselves besides each other,they will kill each other. You are given a string of Minions. You need to  find the final surviving string of Minions,after all the killings. i.e.further No Minion will kill other Minion. If no Minion survived a after all the fighting, print \"-1\".\n",
    "This is the description.</b>\n",
    "\n",
    "Now I write the input Description:\n",
    "Input format:\n",
    "First line contains 'N',size of strings of Minions.\n",
    "Second line contains S, string of Minions.\n",
    "Constraints:\n",
    "1<=N<=10^6\n",
    "\n",
    "Output Description:\n",
    "SIngle line with stable Minion string of  \"-1\""
   ]
  },
  {
   "cell_type": "code",
   "execution_count": 3,
   "id": "0d1551f3-eeb2-4500-b69c-20732d57e9f4",
   "metadata": {},
   "outputs": [
    {
     "name": "stdin",
     "output_type": "stream",
     "text": [
      " 12\n",
      " abbabaadcbbc\n"
     ]
    },
    {
     "name": "stdout",
     "output_type": "stream",
     "text": [
      "Ouput: bd\n"
     ]
    }
   ],
   "source": [
    "def find_surviving_minions():\n",
    "    N = int(input())  # Input the size of the string\n",
    "    S = input().strip()  # Input the string of Minions\n",
    "    \n",
    "    stack = []\n",
    "    \n",
    "    for minion in S:\n",
    "        if stack and stack[-1] == minion:\n",
    "            stack.pop()  # Minions kill each other\n",
    "        else:\n",
    "            stack.append(minion)  # Minion survives\n",
    "    \n",
    "    result = ''.join(stack) if stack else \"-1\"\n",
    "    print(\"Ouput:\",result)\n",
    "\n",
    "# Call the function to execute\n",
    "find_surviving_minions()\n"
   ]
  },
  {
   "cell_type": "markdown",
   "id": "72a41a12-94f2-40c1-bed0-dcba2d3d492d",
   "metadata": {},
   "source": [
    "# Arrange cars\n",
    "<b>For sure, the love mobiles will roll again on this summer's street parade. Each year, the organisers decide on a fixed order for the decorated trucks. Experience taught them to keep free a side street to be able to bring the trucks into order.\n",
    "The side street is so narrow that no two cars can pass each other. Thus, the love mobile that enters the side street last must necessarily leave the side street first. Because the trucks and the ravers move up closely, a truck cannot drive back and re-enter the side street or the approach street. You are given the order in which the love mobiles arrive.\n",
    "Write a program that decides if the love mobiles can be brought into the order that the organisers want them to be</b>\n",
    "\n",
    "Now I write the input description:\n",
    "Input Format:\n",
    "The first line of the input contains an integer t-the no. of test cases. The first line of each testcase contain the number of cars n. The second line of each testcase contains the n integers from 1 to n in some order.\n",
    "Constraints:\n",
    "1<=t<=10^4\n",
    "1<=n<=10^3\n",
    "\n",
    "Output description:\n",
    "Output Format:\n",
    "For each testcase output YES if you can arrange the cars in the required order or NO otherwise."
   ]
  },
  {
   "cell_type": "code",
   "execution_count": 4,
   "id": "73faab0b-8387-4106-8454-c0884273224c",
   "metadata": {},
   "outputs": [
    {
     "name": "stdin",
     "output_type": "stream",
     "text": [
      " 1\n",
      " 5\n",
      " 5 1 2 4 3\n"
     ]
    },
    {
     "name": "stdout",
     "output_type": "stream",
     "text": [
      "YES\n"
     ]
    }
   ],
   "source": [
    "def can_arrange_love_mobiles():\n",
    "    t = int(input())  # Number of test cases\n",
    "    \n",
    "    for _ in range(t):\n",
    "        n = int(input())  # Number of trucks\n",
    "        trucks = list(map(int, input().split()))  # Order of arriving trucks\n",
    "        \n",
    "        stack = []\n",
    "        current = 1\n",
    "        \n",
    "        for truck in trucks:\n",
    "            while stack and stack[-1] == current:\n",
    "                stack.pop()\n",
    "                current += 1\n",
    "            \n",
    "            if truck == current:\n",
    "                current += 1\n",
    "            else:\n",
    "                stack.append(truck)\n",
    "        \n",
    "        while stack and stack[-1] == current:\n",
    "            stack.pop()\n",
    "            current += 1\n",
    "        \n",
    "        if current == n + 1:\n",
    "            print(\"YES\")\n",
    "        else:\n",
    "            print(\"NO\")\n",
    "\n",
    "# Call the function to execute\n",
    "can_arrange_love_mobiles()\n"
   ]
  },
  {
   "cell_type": "markdown",
   "id": "8e9040a9-e966-4e23-87cd-fd1de251ecb0",
   "metadata": {},
   "source": [
    "# Balanced Characters\n",
    "<b>Given a string consisting of lowercaase and uppercase characters both and you have to consider lowercase as opening character and its corresponding uppercase as closing character. Now you have to find whether the given string is balanced or not.\n",
    "Given string is balanced when\n",
    "1)lowercase characters must be closed by the uppercase of same characters.\n",
    "2)lowercase characters must be closed in the correct order.\n",
    "This is the description</b>\n",
    "\n",
    "Now I write the input description:\n",
    "Input format:\n",
    "First-line contains T, no of  test cases\n",
    "first-line of each test case contains N, the length of the string s.\n",
    "Second-line of each test case contains string s of length N.\n",
    "Constraints:\n",
    "1<=T<=10\n",
    "1<=N<=10^5\n",
    "\n",
    "Ouput Description:\n",
    "For each test case print True if the string is balanced and False if string is not balanced."
   ]
  },
  {
   "cell_type": "code",
   "execution_count": 3,
   "id": "4d4a7808-2c93-4f7f-bc91-72fdf2d6ccd6",
   "metadata": {},
   "outputs": [
    {
     "ename": "ValueError",
     "evalue": "invalid literal for int() with base 10: ''",
     "output_type": "error",
     "traceback": [
      "\u001b[1;31m---------------------------------------------------------------------------\u001b[0m",
      "\u001b[1;31mValueError\u001b[0m                                Traceback (most recent call last)",
      "Cell \u001b[1;32mIn[3], line 36\u001b[0m\n\u001b[0;32m     33\u001b[0m         \u001b[38;5;28mprint\u001b[39m(result)\n\u001b[0;32m     35\u001b[0m \u001b[38;5;66;03m# Call the function to execute\u001b[39;00m\n\u001b[1;32m---> 36\u001b[0m \u001b[43mprocess_test_cases\u001b[49m\u001b[43m(\u001b[49m\u001b[43m)\u001b[49m\n",
      "Cell \u001b[1;32mIn[3], line 19\u001b[0m, in \u001b[0;36mprocess_test_cases\u001b[1;34m()\u001b[0m\n\u001b[0;32m     16\u001b[0m \u001b[38;5;28minput\u001b[39m \u001b[38;5;241m=\u001b[39m sys\u001b[38;5;241m.\u001b[39mstdin\u001b[38;5;241m.\u001b[39mread\n\u001b[0;32m     17\u001b[0m data \u001b[38;5;241m=\u001b[39m \u001b[38;5;28minput\u001b[39m()\u001b[38;5;241m.\u001b[39msplit(\u001b[38;5;124m'\u001b[39m\u001b[38;5;130;01m\\n\u001b[39;00m\u001b[38;5;124m'\u001b[39m)\n\u001b[1;32m---> 19\u001b[0m T \u001b[38;5;241m=\u001b[39m \u001b[38;5;28;43mint\u001b[39;49m\u001b[43m(\u001b[49m\u001b[43mdata\u001b[49m\u001b[43m[\u001b[49m\u001b[38;5;241;43m0\u001b[39;49m\u001b[43m]\u001b[49m\u001b[43m)\u001b[49m\n\u001b[0;32m     20\u001b[0m index \u001b[38;5;241m=\u001b[39m \u001b[38;5;241m1\u001b[39m\n\u001b[0;32m     22\u001b[0m results \u001b[38;5;241m=\u001b[39m []\n",
      "\u001b[1;31mValueError\u001b[0m: invalid literal for int() with base 10: ''"
     ]
    }
   ],
   "source": [
    "def is_balanced_string(s):\n",
    "    stack = []\n",
    "    \n",
    "    for char in s:\n",
    "        if 'a' <= char <= 'z':  # If it's a lowercase letter (opening character)\n",
    "            stack.append(char)\n",
    "        elif 'A' <= char <= 'Z':  # If it's an uppercase letter (closing character)\n",
    "            if stack and stack[-1] == char.lower():\n",
    "                stack.pop()\n",
    "            else:\n",
    "                return False\n",
    "    return len(stack) == 0\n",
    "\n",
    "def process_test_cases():\n",
    "    import sys\n",
    "    input = sys.stdin.read\n",
    "    data = input().split('\\n')\n",
    "    \n",
    "    T = int(data[0])\n",
    "    index = 1\n",
    "    \n",
    "    results = []\n",
    "    \n",
    "    for _ in range(T):\n",
    "        N = int(data[index])\n",
    "        s = data[index + 1]\n",
    "        index += 2\n",
    "        \n",
    "        result = is_balanced_string(s)\n",
    "        results.append(result)\n",
    "    \n",
    "    for result in results:\n",
    "        print(result)\n",
    "\n",
    "# Call the function to execute\n",
    "process_test_cases()\n"
   ]
  },
  {
   "cell_type": "code",
   "execution_count": null,
   "id": "97968465-eb71-4a43-844b-fe08bd743654",
   "metadata": {},
   "outputs": [],
   "source": []
  }
 ],
 "metadata": {
  "kernelspec": {
   "display_name": "Python 3 (ipykernel)",
   "language": "python",
   "name": "python3"
  },
  "language_info": {
   "codemirror_mode": {
    "name": "ipython",
    "version": 3
   },
   "file_extension": ".py",
   "mimetype": "text/x-python",
   "name": "python",
   "nbconvert_exporter": "python",
   "pygments_lexer": "ipython3",
   "version": "3.11.5"
  }
 },
 "nbformat": 4,
 "nbformat_minor": 5
}
